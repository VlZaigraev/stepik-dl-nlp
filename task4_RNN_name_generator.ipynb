{
  "cells": [
    {
      "cell_type": "markdown",
      "metadata": {
        "id": "hNSnZI1wKkAM"
      },
      "source": [
        "# Генерация текста с помощью RNN\n"
      ]
    },
    {
      "cell_type": "markdown",
      "metadata": {
        "id": "6WW0ZpEJKkAR"
      },
      "source": [
        "(по мотивам [семинара](https://github.com/neychev/harbour_dlia2019/blob/master/day02_Simple_RNN/Day_2_Simple_RNN_pytorch.ipynb)\n",
        " [курса \"Deep Learning in Applications\"](https://in.harbour.space/data-science/deep-learning-in-applications-radoslav-neychev-anastasia-ianina/))"
      ]
    },
    {
      "cell_type": "code",
      "execution_count": null,
      "metadata": {
        "id": "jIpRh2JKKkAS"
      },
      "outputs": [],
      "source": [
        "# Если Вы запускаете ноутбук на colab или kaggle,\n",
        "# выполните следующие строчки, чтобы подгрузить библиотеку dlnlputils:\n",
        "\n",
        "!git clone https://github.com/VlZaigraev/stepik-dl-nlp.git && pip install -r stepik-dl-nlp/requirements.txt\n",
        "import sys; sys.path.append('./stepik-dl-nlp')"
      ]
    },
    {
      "cell_type": "code",
      "execution_count": null,
      "metadata": {
        "ExecuteTime": {
          "end_time": "2019-11-05T18:20:34.854793Z",
          "start_time": "2019-11-05T18:20:34.372865Z"
        },
        "id": "zPxtcFzAKkAV"
      },
      "outputs": [],
      "source": [
        "import os\n",
        "\n",
        "import numpy as np\n",
        "import matplotlib.pyplot as plt\n",
        "%matplotlib inline"
      ]
    },
    {
      "cell_type": "code",
      "source": [
        "import torch\n",
        "\n",
        "a = torch.arange(1,10*2+1).reshape(2,2,5)\n",
        "a.view(1,2,5,2)# - a.transpose(1,2)"
      ],
      "metadata": {
        "id": "LRWATFmHURG2",
        "outputId": "073d2a13-19b3-48ae-b82c-2baea0c49770",
        "colab": {
          "base_uri": "https://localhost:8080/"
        }
      },
      "execution_count": 68,
      "outputs": [
        {
          "output_type": "execute_result",
          "data": {
            "text/plain": [
              "tensor([[[[ 1,  2],\n",
              "          [ 3,  4],\n",
              "          [ 5,  6],\n",
              "          [ 7,  8],\n",
              "          [ 9, 10]],\n",
              "\n",
              "         [[11, 12],\n",
              "          [13, 14],\n",
              "          [15, 16],\n",
              "          [17, 18],\n",
              "          [19, 20]]]])"
            ]
          },
          "metadata": {},
          "execution_count": 68
        }
      ]
    },
    {
      "cell_type": "code",
      "source": [
        "a.view(5,2,2)"
      ],
      "metadata": {
        "id": "A2vOiEdKUsMr",
        "outputId": "5ad281ae-7f0d-41dc-8f45-a374c538e8e3",
        "colab": {
          "base_uri": "https://localhost:8080/"
        }
      },
      "execution_count": 70,
      "outputs": [
        {
          "output_type": "execute_result",
          "data": {
            "text/plain": [
              "tensor([[[ 1,  2],\n",
              "         [ 3,  4]],\n",
              "\n",
              "        [[ 5,  6],\n",
              "         [ 7,  8]],\n",
              "\n",
              "        [[ 9, 10],\n",
              "         [11, 12]],\n",
              "\n",
              "        [[13, 14],\n",
              "         [15, 16]],\n",
              "\n",
              "        [[17, 18],\n",
              "         [19, 20]]])"
            ]
          },
          "metadata": {},
          "execution_count": 70
        }
      ]
    },
    {
      "cell_type": "markdown",
      "metadata": {
        "id": "RwlFncl3KkAW"
      },
      "source": [
        "# Данные\n",
        "Датасет содержит ~9k имен, все написаны латиницей."
      ]
    },
    {
      "cell_type": "code",
      "execution_count": null,
      "metadata": {
        "ExecuteTime": {
          "end_time": "2019-11-05T18:21:03.509714Z",
          "start_time": "2019-11-05T18:21:03.491489Z"
        },
        "id": "t4dvVfFqKkAX"
      },
      "outputs": [],
      "source": [
        "# Если Вы запускаете ноутбук на colab или kaggle, добавьте в начало пути ./stepik-dl-nlp\n",
        "with open('./stepik-dl-nlp/datasets/russian_names.txt') as input_file:\n",
        "    names = input_file.read()[:-1].split('\\n')\n",
        "    names = [' ' + line for line in names]"
      ]
    },
    {
      "cell_type": "code",
      "execution_count": null,
      "metadata": {
        "ExecuteTime": {
          "end_time": "2019-11-05T18:21:03.946758Z",
          "start_time": "2019-11-05T18:21:03.938432Z"
        },
        "colab": {
          "base_uri": "https://localhost:8080/"
        },
        "id": "n1Z9aHQNKkAZ",
        "outputId": "74207980-49dd-4317-de6f-9e9ced451e6d"
      },
      "outputs": [
        {
          "output_type": "execute_result",
          "data": {
            "text/plain": [
              "[' Ababko', ' Abaev', ' Abagyan', ' Abaidulin', ' Abaidullin']"
            ]
          },
          "metadata": {},
          "execution_count": 7
        }
      ],
      "source": [
        "names[:5]"
      ]
    },
    {
      "cell_type": "markdown",
      "metadata": {
        "id": "8exxwM8tKkAb"
      },
      "source": [
        "Посмотрим на распределение длин имен:"
      ]
    },
    {
      "cell_type": "code",
      "execution_count": null,
      "metadata": {
        "ExecuteTime": {
          "end_time": "2019-11-05T18:21:05.420060Z",
          "start_time": "2019-11-05T18:21:05.179513Z"
        },
        "id": "Yw_nSahHKkAc"
      },
      "outputs": [],
      "source": [
        "plt.title('Name length distribution')\n",
        "plt.hist(list(map(len, names)), bins=25);"
      ]
    },
    {
      "cell_type": "markdown",
      "metadata": {
        "id": "SdQ_Q5PEKkAe"
      },
      "source": [
        "# Препроцессинг"
      ]
    },
    {
      "cell_type": "code",
      "execution_count": null,
      "metadata": {
        "ExecuteTime": {
          "end_time": "2019-11-05T18:21:07.335188Z",
          "start_time": "2019-11-05T18:21:07.320148Z"
        },
        "colab": {
          "base_uri": "https://localhost:8080/"
        },
        "id": "QOj5CGzUKkAf",
        "outputId": "c0bbd68f-9d3c-411d-dba5-588d95c4d366"
      },
      "outputs": [
        {
          "output_type": "stream",
          "name": "stdout",
          "text": [
            "num_tokens =  52\n"
          ]
        }
      ],
      "source": [
        "#all unique characters go here\n",
        "tokens = list(set(''.join(names)))\n",
        "\n",
        "num_tokens = len(tokens)\n",
        "print ('num_tokens = ', num_tokens)"
      ]
    },
    {
      "cell_type": "markdown",
      "metadata": {
        "id": "E0VhwmeiKkAh"
      },
      "source": [
        "### Символы -> id\n",
        "\n",
        "Создадим словарь < символ > -> < id >"
      ]
    },
    {
      "cell_type": "code",
      "execution_count": null,
      "metadata": {
        "ExecuteTime": {
          "end_time": "2019-11-05T18:21:07.674548Z",
          "start_time": "2019-11-05T18:21:07.671129Z"
        },
        "id": "ax-OIdxaKkAi"
      },
      "outputs": [],
      "source": [
        "token_to_id = {token: idx for idx, token in enumerate(tokens)}"
      ]
    },
    {
      "cell_type": "code",
      "execution_count": null,
      "metadata": {
        "ExecuteTime": {
          "end_time": "2019-11-05T18:21:07.838814Z",
          "start_time": "2019-11-05T18:21:07.833611Z"
        },
        "colab": {
          "base_uri": "https://localhost:8080/"
        },
        "id": "wWZv2BB9KkAi",
        "outputId": "fae537bf-3803-4b17-ebc8-e9a6aff2f8d3"
      },
      "outputs": [
        {
          "output_type": "stream",
          "name": "stdout",
          "text": [
            "Seems alright!\n"
          ]
        }
      ],
      "source": [
        "assert len(tokens) == len(token_to_id), \"dictionaries must have same size\"\n",
        "\n",
        "for i in range(num_tokens):\n",
        "    assert token_to_id[tokens[i]] == i, \"token identifier must be it's position in tokens list\"\n",
        "\n",
        "print(\"Seems alright!\")"
      ]
    },
    {
      "cell_type": "code",
      "execution_count": null,
      "metadata": {
        "ExecuteTime": {
          "end_time": "2019-11-05T18:21:07.988093Z",
          "start_time": "2019-11-05T18:21:07.977722Z"
        },
        "id": "x3kGH6qPKkAk"
      },
      "outputs": [],
      "source": [
        "def to_matrix(data, token_to_id, max_len=None, dtype='int32', batch_first = True):\n",
        "    \"\"\"Casts a list of names into rnn-digestable matrix\"\"\"\n",
        "    \n",
        "    max_len = max_len or max(map(len, data))\n",
        "    data_ix = np.zeros([len(data), max_len], dtype) + token_to_id[' ']\n",
        "\n",
        "    for i in range(len(data)):\n",
        "        line_ix = [token_to_id[c] for c in data[i]]\n",
        "        data_ix[i, :len(line_ix)] = line_ix\n",
        "        \n",
        "    if not batch_first: # convert [batch, time] into [time, batch]\n",
        "        data_ix = np.transpose(data_ix)\n",
        "\n",
        "    return data_ix"
      ]
    },
    {
      "cell_type": "code",
      "execution_count": null,
      "metadata": {
        "ExecuteTime": {
          "end_time": "2019-11-05T18:21:08.136936Z",
          "start_time": "2019-11-05T18:21:08.131609Z"
        },
        "colab": {
          "base_uri": "https://localhost:8080/"
        },
        "id": "_MsdsSz9KkAl",
        "outputId": "e936d130-deb4-4097-970b-562513922e55"
      },
      "outputs": [
        {
          "output_type": "stream",
          "name": "stdout",
          "text": [
            " Ababko\n",
            " Chihachev\n",
            " Isaikov\n",
            " Nakhamkin\n",
            " Ustenko\n",
            "[[ 5 42 27  4 27 47 17  5  5  5]\n",
            " [ 5 34 33 37 33  4 44 33 36 19]\n",
            " [ 5 18 11  4 37 47 17 19  5  5]\n",
            " [ 5  9  4 47 33  4 23 47 37 22]\n",
            " [ 5 25 11 41 36 22 47 17  5  5]]\n"
          ]
        }
      ],
      "source": [
        "#Example: cast 4 names to matrices, pad with zeros\n",
        "print('\\n'.join(names[::2000]))\n",
        "print(to_matrix(names[::2000], token_to_id))"
      ]
    },
    {
      "cell_type": "markdown",
      "metadata": {
        "id": "BeTLLLOwKkAm"
      },
      "source": [
        "# Рекуррентные нейронные сети\n",
        "\n",
        "<img src=\"https://github.com/VlZaigraev/stepik-dl-nlp/blob/master/img/rnn.png?raw=1\" width=480>"
      ]
    },
    {
      "cell_type": "code",
      "execution_count": null,
      "metadata": {
        "ExecuteTime": {
          "end_time": "2019-11-05T18:21:10.739438Z",
          "start_time": "2019-11-05T18:21:09.661222Z"
        },
        "id": "L-fmMK7rKkAn"
      },
      "outputs": [],
      "source": [
        "import torch, torch.nn as nn\n",
        "import torch.nn.functional as F\n",
        "from torch.autograd import Variable"
      ]
    },
    {
      "cell_type": "code",
      "execution_count": null,
      "metadata": {
        "ExecuteTime": {
          "end_time": "2019-11-05T18:21:10.751862Z",
          "start_time": "2019-11-05T18:21:10.741772Z"
        },
        "id": "RzVdA4ZiKkAo"
      },
      "outputs": [],
      "source": [
        "class CharRNNCell(nn.Module):\n",
        "    \"\"\"\n",
        "    Implement the scheme above as torch module\n",
        "\n",
        "    1d chars -> Embeddings|\n",
        "                          | => W_h*h^(t-1) + W_x*x^(t) => h^(t) => log_softmax(h) (out size = vocab size)\n",
        "    hidden(dim=num_units) |\n",
        "    \n",
        "    \"\"\"\n",
        "    def __init__(self, num_tokens=len(tokens), embedding_size=16, rnn_num_units=64):\n",
        "        super(self.__class__,self).__init__()\n",
        "        self.num_units = rnn_num_units\n",
        "        \n",
        "        self.embedding = nn.Embedding(num_tokens, embedding_size)\n",
        "        self.rnn_update = nn.Linear(embedding_size + rnn_num_units, rnn_num_units)\n",
        "        self.rnn_to_logits = nn.Linear(rnn_num_units, num_tokens)\n",
        "        \n",
        "    def forward(self, x, h_prev):\n",
        "        \"\"\"\n",
        "        This method computes h_next(x, h_prev) and log P(x_next | h_next)\n",
        "        We'll call it repeatedly to produce the whole sequence.\n",
        "        \n",
        "        :param x: batch of character ids, variable containing vector of int64\n",
        "        :param h_prev: previous rnn hidden states, variable containing matrix [batch, rnn_num_units] of float32\n",
        "        \"\"\"\n",
        "        # get vector embedding of x\n",
        "        x_emb = self.embedding(x)\n",
        "        # compute next hidden state using self.rnn_update\n",
        "        x_and_h = torch.cat([x_emb, h_prev], dim=1) #YOUR CODE HERE\n",
        "        h_next = self.rnn_update(x_and_h) #YOUR CODE HERE\n",
        "        \n",
        "        h_next = F.tanh(h_next)\n",
        "        \n",
        "        assert h_next.size() == h_prev.size()\n",
        "        \n",
        "        #compute logits for next character probs\n",
        "        logits = self.rnn_to_logits(h_next)\n",
        "        \n",
        "        return h_next, F.log_softmax(logits, -1)\n",
        "    \n",
        "    def initial_state(self, batch_size):\n",
        "        \"\"\" return rnn state before it processes first input (aka h0) \"\"\"\n",
        "        return Variable(torch.zeros(batch_size, self.num_units))"
      ]
    },
    {
      "cell_type": "code",
      "execution_count": null,
      "metadata": {
        "ExecuteTime": {
          "end_time": "2019-11-05T18:21:11.071002Z",
          "start_time": "2019-11-05T18:21:11.052377Z"
        },
        "id": "NYTWoy5BKkAt"
      },
      "outputs": [],
      "source": [
        "char_rnn = CharRNNCell()"
      ]
    },
    {
      "cell_type": "markdown",
      "metadata": {
        "id": "uVY8FlTAKkAu"
      },
      "source": [
        "### Тренировка сети, RNN loop"
      ]
    },
    {
      "cell_type": "code",
      "execution_count": null,
      "metadata": {
        "ExecuteTime": {
          "end_time": "2019-11-05T18:21:11.521078Z",
          "start_time": "2019-11-05T18:21:11.510175Z"
        },
        "id": "L24OmpPZKkAz"
      },
      "outputs": [],
      "source": [
        "def rnn_loop(rnn, batch_index):\n",
        "    \"\"\"\n",
        "    Computes log P(next_character) for all time-steps in names_ix\n",
        "    :param names_ix: an int32 matrix of shape [batch, time], output of to_matrix(names)\n",
        "    \"\"\"\n",
        "    batch_size, max_length = batch_index.size()\n",
        "    hid_state = rnn.initial_state(batch_size)\n",
        "    logprobs = []\n",
        "\n",
        "    for x_t in batch_index.transpose(0,1):\n",
        "        hid_state, logp_next = rnn(x_t, hid_state)  \n",
        "        logprobs.append(logp_next)\n",
        "        \n",
        "    return torch.stack(logprobs, dim=1)"
      ]
    },
    {
      "cell_type": "markdown",
      "metadata": {
        "id": "BiRpJAWoKkAz"
      },
      "source": [
        "### Тренировка сети"
      ]
    },
    {
      "cell_type": "code",
      "execution_count": null,
      "metadata": {
        "ExecuteTime": {
          "end_time": "2019-11-05T18:21:12.120106Z",
          "start_time": "2019-11-05T18:21:12.109585Z"
        },
        "id": "P8pha21zKkA0"
      },
      "outputs": [],
      "source": [
        "from IPython.display import clear_output\n",
        "from random import sample\n",
        "\n",
        "char_rnn = CharRNNCell()\n",
        "opt = torch.optim.Adam(char_rnn.parameters())\n",
        "history = []"
      ]
    },
    {
      "cell_type": "code",
      "execution_count": null,
      "metadata": {
        "ExecuteTime": {
          "end_time": "2019-11-05T18:21:23.521061Z",
          "start_time": "2019-11-05T18:21:12.302892Z"
        },
        "colab": {
          "base_uri": "https://localhost:8080/",
          "height": 266
        },
        "id": "Mptp1k6GKkA1",
        "outputId": "256fc93a-1421-4862-84d8-ab7a3a8eed3e"
      },
      "outputs": [
        {
          "output_type": "display_data",
          "data": {
            "text/plain": [
              "<Figure size 432x288 with 1 Axes>"
            ],
            "image/png": "[encoded data removed]"
          },
          "metadata": {
            "needs_background": "light"
          }
        }
      ],
      "source": [
        "MAX_LENGTH = max(map(len, names))\n",
        "\n",
        "for i in range(1000):\n",
        "    batch_ix = to_matrix(sample(names, 64), token_to_id, max_len=MAX_LENGTH)\n",
        "    batch_ix = torch.tensor(batch_ix, dtype=torch.int64)\n",
        "    \n",
        "    logp_seq = rnn_loop(char_rnn, batch_ix)\n",
        "    \n",
        "    # compute loss\n",
        "    predictions_logp = logp_seq[:, :-1]\n",
        "    actual_next_tokens = batch_ix[:, 1:]\n",
        "\n",
        "    loss = -torch.mean(torch.gather(predictions_logp, dim=2, index=actual_next_tokens[:,:,None]))###YOUR CODE\n",
        "    \n",
        "    # train with backprop\n",
        "    loss.backward()\n",
        "    opt.step()\n",
        "    opt.zero_grad()\n",
        "    \n",
        "    # visualizing training process\n",
        "    history.append(loss.data.numpy())\n",
        "    if (i + 1) % 100 == 0:\n",
        "        clear_output(True)\n",
        "        plt.plot(history,label='loss')\n",
        "        plt.legend()\n",
        "        plt.show()\n",
        "\n",
        "assert np.mean(history[:10]) > np.mean(history[-10:]), \"RNN didn't converge.\""
      ]
    },
    {
      "cell_type": "markdown",
      "metadata": {
        "id": "1eswNSVYKkA2"
      },
      "source": [
        "### RNN: генерация имен"
      ]
    },
    {
      "cell_type": "code",
      "execution_count": null,
      "metadata": {
        "ExecuteTime": {
          "end_time": "2019-11-05T18:21:23.540765Z",
          "start_time": "2019-11-05T18:21:23.524503Z"
        },
        "id": "6MuOjSQQKkA2"
      },
      "outputs": [],
      "source": [
        "def generate_sample(char_rnn, seed_phrase=' ', max_length=MAX_LENGTH, temperature=1.0):\n",
        "    '''\n",
        "    The function generates text given a phrase of length at least SEQ_LENGTH.\n",
        "    :param seed_phrase: prefix characters. The RNN is asked to continue the phrase\n",
        "    :param max_length: maximum output length, including seed_phrase\n",
        "    :param temperature: coefficient for sampling.  higher temperature produces more chaotic outputs,\n",
        "                        smaller temperature converges to the single most likely output\n",
        "    '''\n",
        "    \n",
        "    x_sequence = [token_to_id[token] for token in seed_phrase]\n",
        "    x_sequence = torch.tensor([x_sequence], dtype=torch.int64)\n",
        "    hid_state = char_rnn.initial_state(batch_size=1)\n",
        "    \n",
        "    #feed the seed phrase, if any\n",
        "    for i in range(len(seed_phrase) - 1):\n",
        "        hid_state, _ = char_rnn(x_sequence[:, i], hid_state)\n",
        "    \n",
        "    #start generating\n",
        "    for _ in range(max_length - len(seed_phrase)):\n",
        "        hid_state, logp_next = char_rnn(x_sequence[:, -1], hid_state)\n",
        "        p_next = F.softmax(logp_next / temperature, dim=-1).data.numpy()[0]\n",
        "        \n",
        "        # sample next token and push it back into x_sequence\n",
        "        next_ix = np.random.choice(len(tokens), p=p_next)\n",
        "        next_ix = torch.tensor([[next_ix]], dtype=torch.int64)\n",
        "        x_sequence = torch.cat([x_sequence, next_ix], dim=1)\n",
        "        \n",
        "    return ''.join([tokens[ix] for ix in x_sequence.data.numpy()[0]])"
      ]
    },
    {
      "cell_type": "code",
      "execution_count": null,
      "metadata": {
        "ExecuteTime": {
          "end_time": "2019-11-05T18:21:23.625562Z",
          "start_time": "2019-11-05T18:21:23.544968Z"
        },
        "colab": {
          "base_uri": "https://localhost:8080/"
        },
        "id": "hxRfXBJNKkA3",
        "outputId": "8c058faf-7d90-459e-efd6-f175d7024477"
      },
      "outputs": [
        {
          "output_type": "stream",
          "name": "stdout",
          "text": [
            " Baertsaev           \n",
            " Yesutoen            \n",
            " Namarkup            \n",
            " Lakorgen            \n",
            " Maganov             \n",
            " Motdaichenko        \n",
            " Vaedkov             \n",
            " Yagaesko            \n",
            " Grezenbsky          \n",
            " Chintsikv           \n"
          ]
        },
        {
          "output_type": "stream",
          "name": "stderr",
          "text": [
            "/usr/local/lib/python3.7/dist-packages/torch/nn/functional.py:1795: UserWarning: nn.functional.tanh is deprecated. Use torch.tanh instead.\n",
            "  warnings.warn(\"nn.functional.tanh is deprecated. Use torch.tanh instead.\")\n"
          ]
        }
      ],
      "source": [
        "for _ in range(10):\n",
        "    print(generate_sample(char_rnn))"
      ]
    },
    {
      "cell_type": "code",
      "execution_count": null,
      "metadata": {
        "ExecuteTime": {
          "end_time": "2019-11-05T18:21:23.702249Z",
          "start_time": "2019-11-05T18:21:23.629226Z"
        },
        "id": "v4aqgY5AKkA4"
      },
      "outputs": [],
      "source": [
        "for _ in range(10):\n",
        "    print(generate_sample(char_rnn, seed_phrase=' Ar'))"
      ]
    },
    {
      "cell_type": "markdown",
      "metadata": {
        "collapsed": true,
        "id": "upBgmqKlKkA4"
      },
      "source": [
        "### Более простое решение\n",
        "\n",
        "* `nn.RNNCell(emb_size, rnn_num_units)` - шаг RNN. Алгоритм: concat-linear-tanh\n",
        "* `nn.RNN(emb_size, rnn_num_units` - весь rnn_loop.\n",
        "\n",
        "Кроме того, в PyTorch есть `nn.LSTMCell`, `nn.LSTM`, `nn.GRUCell`, `nn.GRU`, etc. etc.\n",
        "\n",
        "Перепишем наш пример с генерацией имен с помощью средств PyTorch."
      ]
    },
    {
      "cell_type": "code",
      "execution_count": null,
      "metadata": {
        "ExecuteTime": {
          "end_time": "2019-11-05T18:21:23.713285Z",
          "start_time": "2019-11-05T18:21:23.704755Z"
        },
        "id": "Y2md83naKkA4"
      },
      "outputs": [],
      "source": [
        "class CharRNNLoop(nn.Module):\n",
        "    def __init__(self, num_tokens=num_tokens, emb_size=16, rnn_num_units=64):\n",
        "        super(self.__class__, self).__init__()\n",
        "        self.emb = nn.Embedding(num_tokens, emb_size)\n",
        "        self.rnn = nn.RNN(emb_size, rnn_num_units, batch_first=True)\n",
        "        self.hid_to_logits = nn.Linear(rnn_num_units, num_tokens)\n",
        "        \n",
        "    def forward(self, x):\n",
        "        assert isinstance(x, Variable) and isinstance(x.data, torch.LongTensor)\n",
        "        h_seq, _ = self.rnn(self.emb(x))\n",
        "        next_logits = self.hid_to_logits(h_seq)\n",
        "        next_logp = F.log_softmax(next_logits, dim=-1)\n",
        "        return next_logp\n",
        "    \n",
        "model = CharRNNLoop()\n",
        "opt = torch.optim.Adam(model.parameters())\n",
        "history = []"
      ]
    },
    {
      "cell_type": "code",
      "execution_count": null,
      "metadata": {
        "ExecuteTime": {
          "end_time": "2019-11-05T18:21:23.790047Z",
          "start_time": "2019-11-05T18:21:23.715167Z"
        },
        "id": "_cUTTsc8KkA5"
      },
      "outputs": [],
      "source": [
        "# the model applies over the whole sequence\n",
        "batch_ix = to_matrix(sample(names, 32), token_to_id, max_len=MAX_LENGTH)\n",
        "batch_ix = Variable(torch.LongTensor(batch_ix))\n",
        "\n",
        "logp_seq = model(batch_ix)\n",
        "\n",
        "# compute loss\n",
        "loss = F.nll_loss(logp_seq[:, 1:].contiguous().view(-1, num_tokens), \n",
        "                  batch_ix[:, :-1].contiguous().view(-1))\n",
        "\n",
        "loss.backward()"
      ]
    },
    {
      "cell_type": "code",
      "execution_count": null,
      "metadata": {
        "ExecuteTime": {
          "end_time": "2019-11-05T18:21:31.468107Z",
          "start_time": "2019-11-05T18:21:23.792092Z"
        },
        "id": "pyl1nZzVKkA6"
      },
      "outputs": [],
      "source": [
        "MAX_LENGTH = max(map(len, names))\n",
        "\n",
        "for i in range(1000):\n",
        "    batch_ix = to_matrix(sample(names, 32), token_to_id, max_len=MAX_LENGTH)\n",
        "    batch_ix = torch.tensor(batch_ix, dtype=torch.int64)\n",
        "    \n",
        "    logp_seq = model(batch_ix)\n",
        "    \n",
        "    # compute loss\n",
        "    predictions_logp = logp_seq[:, :-1]\n",
        "    actual_next_tokens = batch_ix[:, 1:]\n",
        "\n",
        "    loss = -torch.mean(torch.gather(predictions_logp, dim=2, index=actual_next_tokens[:,:,None]))\n",
        "    \n",
        "    # train with backprop\n",
        "    loss.backward()\n",
        "    opt.step()\n",
        "    opt.zero_grad()\n",
        "    \n",
        "    history.append(loss.data.numpy())\n",
        "    if (i + 1) % 100 == 0:\n",
        "        clear_output(True)\n",
        "        plt.plot(history, label='loss')\n",
        "        plt.legend()\n",
        "        plt.show()\n",
        "\n",
        "assert np.mean(history[:25]) > np.mean(history[-25:]), \"RNN didn't converge.\""
      ]
    },
    {
      "cell_type": "code",
      "execution_count": null,
      "metadata": {
        "ExecuteTime": {
          "end_time": "2019-11-05T18:21:31.526436Z",
          "start_time": "2019-11-05T18:21:31.469965Z"
        },
        "id": "l4mNm8HwKkA6"
      },
      "outputs": [],
      "source": [
        "for _ in range(10):\n",
        "    print(generate_sample(char_rnn))"
      ]
    },
    {
      "cell_type": "markdown",
      "metadata": {
        "id": "lfoFvyK2KkA7"
      },
      "source": [
        "### Домашнее задание: мотивационные лозунги"
      ]
    },
    {
      "cell_type": "code",
      "execution_count": null,
      "metadata": {
        "ExecuteTime": {
          "end_time": "2019-11-05T18:21:31.570320Z",
          "start_time": "2019-11-05T18:21:31.528673Z"
        },
        "id": "dutUZaqbKkA7"
      },
      "outputs": [],
      "source": [
        "# Если Вы запускаете ноутбук на colab или kaggle, добавьте в начало пути ./stepik-dl-nlp\n",
        "with open('datasets/author_quotes.txt') as input_file:\n",
        "    quotes = input_file.read()[:-1].split('\\n')\n",
        "    quotes = [' ' + line for line in quotes]"
      ]
    },
    {
      "cell_type": "code",
      "execution_count": null,
      "metadata": {
        "ExecuteTime": {
          "end_time": "2019-11-05T18:21:31.575286Z",
          "start_time": "2019-11-05T18:21:31.571798Z"
        },
        "id": "vBGNK5SSKkA8"
      },
      "outputs": [],
      "source": [
        "quotes[:5]"
      ]
    },
    {
      "cell_type": "code",
      "execution_count": null,
      "metadata": {
        "ExecuteTime": {
          "end_time": "2019-11-05T18:21:31.653673Z",
          "start_time": "2019-11-05T18:21:31.578424Z"
        },
        "id": "s3_LLfAoKkA8"
      },
      "outputs": [],
      "source": [
        "tokens = list(set(''.join(quotes)))\n",
        "token_to_id = {token: idx for idx, token in enumerate(tokens)}\n",
        "num_tokens = len(tokens)"
      ]
    },
    {
      "cell_type": "code",
      "execution_count": null,
      "metadata": {
        "id": "ZktdhBHhKkA9"
      },
      "outputs": [],
      "source": [
        "# your code here"
      ]
    },
    {
      "cell_type": "markdown",
      "metadata": {
        "id": "mXm7Y0VDKkA9"
      },
      "source": [
        "### Что еще можно генерировать?\n",
        "С помощью кода из этого семинара можно генерировать не только имена, но и:\n",
        "\n",
        "* Повести/романы/поэзию/песни любимого автора\n",
        "* Новостные заголовки\n",
        "* Программный код\n",
        "* Молекулы в формате [smiles](https://en.wikipedia.org/wiki/Simplified_molecular-input_line-entry_system)\n",
        "* Музыку\n",
        "* Названия мебели из ИКЕА\n",
        "* Мотивационные лозунги\n",
        "* etc.\n",
        "\n",
        "__Удачи!__"
      ]
    },
    {
      "cell_type": "code",
      "execution_count": null,
      "metadata": {
        "id": "jmffuHZNKkA9"
      },
      "outputs": [],
      "source": [
        ""
      ]
    }
  ],
  "metadata": {
    "kernelspec": {
      "display_name": "Python 3",
      "language": "python",
      "name": "python3"
    },
    "language_info": {
      "codemirror_mode": {
        "name": "ipython",
        "version": 3
      },
      "file_extension": ".py",
      "mimetype": "text/x-python",
      "name": "python",
      "nbconvert_exporter": "python",
      "pygments_lexer": "ipython3",
      "version": "3.7.1"
    },
    "latex_envs": {
      "LaTeX_envs_menu_present": true,
      "autoclose": false,
      "autocomplete": true,
      "bibliofile": "biblio.bib",
      "cite_by": "apalike",
      "current_citInitial": 1,
      "eqLabelWithNumbers": true,
      "eqNumInitial": 1,
      "hotkeys": {
        "equation": "Ctrl-E",
        "itemize": "Ctrl-I"
      },
      "labels_anchors": false,
      "latex_user_defs": false,
      "report_style_numbering": false,
      "user_envs_cfg": false
    },
    "toc": {
      "base_numbering": 1,
      "nav_menu": {},
      "number_sections": true,
      "sideBar": true,
      "skip_h1_title": false,
      "title_cell": "Table of Contents",
      "title_sidebar": "Contents",
      "toc_cell": false,
      "toc_position": {},
      "toc_section_display": true,
      "toc_window_display": false
    },
    "colab": {
      "name": "task4_RNN_name_generator.ipynb",
      "provenance": []
    }
  },
  "nbformat": 4,
  "nbformat_minor": 0
}